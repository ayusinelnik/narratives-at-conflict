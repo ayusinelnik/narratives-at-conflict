{
  "cells": [
    {
      "cell_type": "markdown",
      "metadata": {
        "id": "view-in-github",
        "colab_type": "text"
      },
      "source": [
        "<a href=\"https://colab.research.google.com/github/ayusinelnik/narratives-at-conflict/blob/main/10_MFC_XLM_R_Setup.ipynb\" target=\"_parent\"><img src=\"https://colab.research.google.com/assets/colab-badge.svg\" alt=\"Open In Colab\"/></a>"
      ]
    },
    {
      "cell_type": "markdown",
      "metadata": {
        "id": "PO3rL1h5iESz"
      },
      "source": [
        "\n",
        "# Set Up"
      ]
    },
    {
      "cell_type": "code",
      "execution_count": null,
      "metadata": {
        "colab": {
          "base_uri": "https://localhost:8080/"
        },
        "id": "uRrPpja7iNOo",
        "outputId": "9e034eb5-b48d-4d0c-f5e3-c4e2eb8f5376"
      },
      "outputs": [
        {
          "output_type": "stream",
          "name": "stderr",
          "text": [
            "[nltk_data] Downloading package punkt to /root/nltk_data...\n",
            "[nltk_data]   Unzipping tokenizers/punkt.zip.\n"
          ]
        },
        {
          "output_type": "stream",
          "name": "stdout",
          "text": [
            "Mounted at /content/drive/\n"
          ]
        }
      ],
      "source": [
        "import csv\n",
        "import pandas as pd\n",
        "import numpy as np\n",
        "import re\n",
        "from collections import Counter, defaultdict\n",
        "from nltk import tokenize\n",
        "import nltk\n",
        "nltk.download('punkt')\n",
        "\n",
        "from google.colab import drive\n",
        "drive.mount('/content/drive/', force_remount = True)\n"
      ]
    },
    {
      "cell_type": "code",
      "source": [
        "!pip install sentencepiece"
      ],
      "metadata": {
        "colab": {
          "base_uri": "https://localhost:8080/"
        },
        "id": "4-8O1550wvvF",
        "outputId": "7a47582b-78df-4075-ed98-b57daacda7e5"
      },
      "execution_count": null,
      "outputs": [
        {
          "output_type": "stream",
          "name": "stdout",
          "text": [
            "Requirement already satisfied: sentencepiece in /usr/local/lib/python3.10/dist-packages (0.1.99)\n"
          ]
        }
      ]
    },
    {
      "cell_type": "code",
      "source": [
        "# load the codes\n",
        "\n",
        "import json\n",
        "\n",
        "json_file_path = '/content/drive/MyDrive/Research_Thesis_Bocconi_2023/mfc_v4.0/codes.json'\n",
        "\n",
        "with open(json_file_path, 'r') as json_file:\n",
        "    original_codes_dict = json.load(json_file)\n",
        "original_codes_dict"
      ],
      "metadata": {
        "id": "JA3Ppneoihng"
      },
      "execution_count": null,
      "outputs": []
    },
    {
      "cell_type": "code",
      "execution_count": null,
      "metadata": {
        "id": "MFJDZbTuzeZ4"
      },
      "outputs": [],
      "source": [
        "import os\n",
        "\n",
        "folder_path = '/content/drive/MyDrive/Research_Thesis_Bocconi_2023/mfc_v4.0/'\n",
        "\n",
        "# Get a list of all files in the folder that end with '_labeled.json'\n",
        "files = [f for f in os.listdir(folder_path) if f.endswith('_labeled.json')]\n",
        "\n",
        "\n",
        "merged_data = pd.DataFrame()\n",
        "\n",
        "# Merge data\n",
        "for file in files:\n",
        "    file_path = os.path.join(folder_path, file)\n",
        "    current_data = pd.read_json(file_path)\n",
        "\n",
        "\n",
        "    merged_data = pd.concat([merged_data, current_data], axis=1)\n",
        "\n",
        "merged_data.info()\n"
      ]
    },
    {
      "cell_type": "markdown",
      "source": [
        "## Extract the sentences that contain annotation spans"
      ],
      "metadata": {
        "id": "2LizRbAAbEta"
      }
    },
    {
      "cell_type": "code",
      "source": [
        "import pandas as pd\n",
        "import nltk\n",
        "import re\n",
        "\n",
        "nltk.download('punkt')\n",
        "\n",
        "def extract_framing_text(data):\n",
        "    extracted_data = []\n",
        "\n",
        "    for column in data.columns:\n",
        "        if \"framing\" in data[column][\"annotations\"]:\n",
        "            for annotator, annotations in data[column][\"annotations\"][\"framing\"].items():\n",
        "                print(f\"Annotations for column {column} by {annotator}:\")\n",
        "                for annotation in annotations:\n",
        "                    start = annotation[\"start\"]\n",
        "                    end = annotation[\"end\"]\n",
        "                    code = annotation[\"code\"]\n",
        "\n",
        "                    extracted_sentences = extract_sentences_containing_span(data[column][\"text\"], start, end)\n",
        "\n",
        "                    for extracted_sentence in extracted_sentences:\n",
        "\n",
        "                        extracted_data.append({\n",
        "                            \"column\": column,\n",
        "                            \"annotator\": annotator,\n",
        "                            \"start\": start,\n",
        "                            \"end\": end,\n",
        "                            \"code\": code,\n",
        "                            \"sentence\": extracted_sentence,\n",
        "                            \"original_text\": data[column][\"text\"],\n",
        "                            \"span_text\": data[column]['text'][start:end]\n",
        "                        })\n",
        "\n",
        "\n",
        "    extracted_df = pd.DataFrame(extracted_data)\n",
        "\n",
        "    return extracted_df\n",
        "\n",
        "def extract_sentences_containing_span(text, start, end):\n",
        "\n",
        "    sentences = nltk.tokenize.sent_tokenize(text)\n",
        "\n",
        "\n",
        "    span_regex = re.compile(re.escape(text[start:end]), re.IGNORECASE)\n",
        "    matching_sentences = [sentence for sentence in sentences if span_regex.search(sentence)]\n",
        "\n",
        "    return matching_sentences"
      ],
      "metadata": {
        "id": "cjhjChjS4kjz"
      },
      "execution_count": null,
      "outputs": []
    },
    {
      "cell_type": "code",
      "source": [
        "extracted_data= extracted_data[~extracted_data['code'].astype(str).str.endswith(('.2', '.1'))]"
      ],
      "metadata": {
        "id": "kqmuguIPWfYq"
      },
      "execution_count": null,
      "outputs": []
    },
    {
      "cell_type": "code",
      "source": [
        "# filter for 2+ annotator agreement\n",
        "\n",
        "filtered_data = extracted_data.groupby(['column', 'code', 'sentence']).filter(lambda group: group['annotator'].nunique() >= 2)"
      ],
      "metadata": {
        "id": "VegcGNZDXlLR"
      },
      "execution_count": null,
      "outputs": []
    },
    {
      "cell_type": "markdown",
      "source": [
        "## Subsection to create priors from intial distribution of annotations"
      ],
      "metadata": {
        "id": "hvSNxL3z3hko"
      }
    },
    {
      "cell_type": "code",
      "source": [
        "#without filtering for examples where the annotators agreed\n",
        "\n",
        "filtered_data = extracted_data.groupby(['column', 'code', 'sentence']).filter(lambda group: group['annotator'].nunique() >= 1)"
      ],
      "metadata": {
        "id": "_7b8vvKDi61a"
      },
      "execution_count": null,
      "outputs": []
    },
    {
      "cell_type": "code",
      "source": [
        "priors = filtered_data['code'].value_counts()"
      ],
      "metadata": {
        "id": "SxCgJ3AiXqVH"
      },
      "execution_count": null,
      "outputs": []
    },
    {
      "cell_type": "code",
      "source": [
        "priors.to_csv('/content/drive/MyDrive/Research_Thesis_Bocconi_2023/results_pairs/priors_unfiltered.csv')"
      ],
      "metadata": {
        "id": "XeAGzr0E3YNt"
      },
      "execution_count": null,
      "outputs": []
    },
    {
      "cell_type": "markdown",
      "source": [
        "# Train the XML-Roberta-L"
      ],
      "metadata": {
        "id": "OuwByGu2hCTo"
      }
    },
    {
      "cell_type": "code",
      "source": [
        "!pip install torch\n",
        "!pip install transformers"
      ],
      "metadata": {
        "id": "mZXWqEzGhLEb"
      },
      "execution_count": null,
      "outputs": []
    },
    {
      "cell_type": "code",
      "source": [
        "import torch\n",
        "from transformers import XLMRobertaTokenizer, XLMRobertaForSequenceClassification\n",
        "from transformers import AdamW, get_linear_schedule_with_warmup\n",
        "from torch.utils.data import DataLoader, Dataset\n",
        "from sklearn.model_selection import train_test_split\n",
        "from sklearn.metrics import f1_score\n",
        "import numpy as np\n"
      ],
      "metadata": {
        "id": "cT-wgenzhfCO"
      },
      "execution_count": null,
      "outputs": []
    },
    {
      "cell_type": "code",
      "source": [
        "from torch.utils.data import Dataset"
      ],
      "metadata": {
        "id": "kxAYU3foxsGP"
      },
      "execution_count": null,
      "outputs": []
    },
    {
      "cell_type": "code",
      "source": [
        "import pandas as pd"
      ],
      "metadata": {
        "id": "S1MLyGlA3kpG"
      },
      "execution_count": null,
      "outputs": []
    },
    {
      "cell_type": "markdown",
      "source": [
        "Prepare the training files"
      ],
      "metadata": {
        "id": "hKwV7xFXkD1e"
      }
    },
    {
      "cell_type": "code",
      "source": [
        "filtered_data['code'] = filtered_data['code'].astype(int)\n",
        "print(filtered_data['code'].unique())"
      ],
      "metadata": {
        "colab": {
          "base_uri": "https://localhost:8080/"
        },
        "id": "AWXU2wwO7Vcy",
        "outputId": "0a932dab-08e7-46fd-8042-e7ad0d60ab55"
      },
      "execution_count": null,
      "outputs": [
        {
          "output_type": "stream",
          "name": "stdout",
          "text": [
            "[13  1  6 11  9  3  2 14 10  5 12  8  7  4]\n"
          ]
        }
      ]
    },
    {
      "cell_type": "code",
      "source": [
        "data = filtered_data\n",
        "\n",
        "train_data, val_data = train_test_split(filtered_data, test_size=0.2, random_state=42)\n",
        "\n",
        "train_data_formatted = [{\"text\": text, \"label\": label} for text, label in zip(train_data['sentence'], train_data['code'])]\n",
        "val_data_formatted = [{\"text\": text, \"label\": label} for text, label in zip(val_data['sentence'], val_data['code'])]"
      ],
      "metadata": {
        "id": "y0HR7mCTiWTx"
      },
      "execution_count": null,
      "outputs": []
    },
    {
      "cell_type": "code",
      "source": [
        "# Load XLM-Roberta tokenizer and model\n",
        "\n",
        "model_name = 'xlm-roberta-large'\n",
        "tokenizer = XLMRobertaTokenizer.from_pretrained(model_name)\n",
        "base_model = XLMRobertaForSequenceClassification.from_pretrained(model_name, num_labels=15)\n",
        "hidden_size = base_model.config.hidden_size"
      ],
      "metadata": {
        "id": "X3Pb0V8slvrs",
        "colab": {
          "base_uri": "https://localhost:8080/"
        },
        "outputId": "f72653c0-5c19-4478-a039-74426282d5ab"
      },
      "execution_count": null,
      "outputs": [
        {
          "output_type": "stream",
          "name": "stderr",
          "text": [
            "Some weights of XLMRobertaForSequenceClassification were not initialized from the model checkpoint at xlm-roberta-large and are newly initialized: ['classifier.out_proj.weight', 'classifier.dense.weight', 'classifier.out_proj.bias', 'classifier.dense.bias']\n",
            "You should probably TRAIN this model on a down-stream task to be able to use it for predictions and inference.\n"
          ]
        }
      ]
    },
    {
      "cell_type": "code",
      "source": [
        "\n",
        "classifier = torch.nn.Sequential(\n",
        "    torch.nn.Linear(hidden_size, hidden_size),\n",
        "    torch.nn.ReLU(),\n",
        "    torch.nn.Linear(hidden_size, 15)\n",
        ")\n",
        "\n",
        "model = torch.nn.Sequential(base_model, classifier)\n",
        "\n",
        "# Modify the final classifier layer\n",
        "classifier = torch.nn.Sequential(\n",
        "    torch.nn.Linear(hidden_size, hidden_size),\n",
        "    torch.nn.ReLU(),\n",
        "    torch.nn.Linear(hidden_size, 15)\n",
        ")\n",
        "\n",
        "class CustomModel(torch.nn.Module):\n",
        "    def __init__(self, base_model, classifier):\n",
        "        super(CustomModel, self).__init__()\n",
        "        self.base_model = base_model\n",
        "        self.classifier = classifier\n",
        "\n",
        "    def forward(self, input_ids, attention_mask=None, labels=None):\n",
        "        outputs = self.base_model(input_ids, attention_mask=attention_mask, labels=labels)\n",
        "        logits = outputs.logits\n",
        "        if labels is not None:\n",
        "            loss = outputs.loss\n",
        "            return loss\n",
        "        return logits\n",
        "\n",
        "model = CustomModel(base_model, classifier)"
      ],
      "metadata": {
        "id": "8Uz782WP1kTq"
      },
      "execution_count": null,
      "outputs": []
    },
    {
      "cell_type": "code",
      "source": [
        "class CustomDataset(Dataset):\n",
        "    def __init__(self, data, tokenizer, max_length):\n",
        "        self.data = data\n",
        "        self.tokenizer = tokenizer\n",
        "        self.max_length = max_length\n",
        "\n",
        "    def __len__(self):\n",
        "        return len(self.data)\n",
        "\n",
        "    def __getitem__(self, idx):\n",
        "        item = self.data[idx]\n",
        "        encoding = self.tokenizer(item[\"text\"], truncation=True, padding=\"max_length\", max_length=self.max_length, return_tensors=\"pt\")\n",
        "        return {\n",
        "            \"input_ids\": encoding[\"input_ids\"].flatten(),\n",
        "            \"attention_mask\": encoding[\"attention_mask\"].flatten(),\n",
        "            \"labels\": torch.tensor(item[\"label\"], dtype=torch.long)\n",
        "        }"
      ],
      "metadata": {
        "id": "K-l8XhBwvSci"
      },
      "execution_count": null,
      "outputs": []
    },
    {
      "cell_type": "code",
      "source": [
        "train_dataset = CustomDataset(train_data_formatted, tokenizer, max_length=70)\n",
        "val_dataset = CustomDataset(val_data_formatted, tokenizer, max_length=70)\n",
        "\n",
        "train_loader = DataLoader(train_dataset, batch_size=64, shuffle=True)\n",
        "val_loader = DataLoader(val_dataset, batch_size=64, shuffle=False)"
      ],
      "metadata": {
        "id": "2fZBop5gvWge"
      },
      "execution_count": null,
      "outputs": []
    },
    {
      "cell_type": "code",
      "source": [
        "learning_rate = 5e-6\n",
        "num_epochs = 20\n",
        "warmup_steps = 0.05 * len(train_loader)\n",
        "total_steps = num_epochs * len(train_loader)\n",
        "optimizer = AdamW(model.parameters(), lr=learning_rate)\n",
        "scheduler = get_linear_schedule_with_warmup(optimizer, warmup_steps, total_steps)"
      ],
      "metadata": {
        "id": "ipNtFUDgvfMH",
        "colab": {
          "base_uri": "https://localhost:8080/"
        },
        "outputId": "94dfc597-6f06-48b8-cf8f-c5156ec86894"
      },
      "execution_count": null,
      "outputs": [
        {
          "output_type": "stream",
          "name": "stderr",
          "text": [
            "/usr/local/lib/python3.10/dist-packages/transformers/optimization.py:411: FutureWarning: This implementation of AdamW is deprecated and will be removed in a future version. Use the PyTorch implementation torch.optim.AdamW instead, or set `no_deprecation_warning=True` to disable this warning\n",
            "  warnings.warn(\n"
          ]
        }
      ]
    },
    {
      "cell_type": "code",
      "source": [
        "device = torch.device('cuda' if torch.cuda.is_available() else 'cpu')\n",
        "model.to(device)"
      ],
      "metadata": {
        "id": "zrzIqlievobt"
      },
      "execution_count": null,
      "outputs": []
    },
    {
      "cell_type": "code",
      "source": [
        "best_macro_f1 = 0.0\n",
        "\n",
        "for epoch in range(num_epochs):\n",
        "    model.train()\n",
        "    for batch in train_loader:\n",
        "        input_ids, attention_mask, labels = batch[\"input_ids\"].to(device), batch[\"attention_mask\"].to(device), batch[\"labels\"].to(device)\n",
        "\n",
        "        optimizer.zero_grad()\n",
        "        outputs = model(input_ids, attention_mask=attention_mask, labels=labels)\n",
        "\n",
        "        # Extract the loss from the outputs\n",
        "        loss = outputs if labels is not None else None\n",
        "\n",
        "        if loss is not None:\n",
        "            loss.backward()\n",
        "            optimizer.step()\n",
        "            scheduler.step()\n",
        "\n",
        "\n",
        "    model.eval()\n",
        "    all_preds = []\n",
        "    all_labels = []\n",
        "    with torch.no_grad():\n",
        "        for batch in val_loader:\n",
        "            input_ids, attention_mask, labels = batch[\"input_ids\"].to(device), batch[\"attention_mask\"].to(device), batch[\"labels\"].to(device)\n",
        "\n",
        "            logits = model(input_ids, attention_mask=attention_mask)\n",
        "            preds = torch.argmax(logits, dim=1)\n",
        "\n",
        "            all_preds.extend(preds.cpu().numpy())\n",
        "            all_labels.extend(labels.cpu().numpy())\n",
        "\n",
        "\n",
        "        macro_f1 = f1_score(all_labels, all_preds, average='macro')\n",
        "        print(f'Epoch {epoch + 1}/{num_epochs}, Macro F1: {macro_f1}')\n",
        "\n",
        "\n",
        "        if macro_f1 > best_macro_f1:\n",
        "            best_macro_f1 = macro_f1\n",
        "            torch.save(model.state_dict(), f'/content/drive/MyDrive/Research_Thesis_Bocconi_2023/park_xlmrl_best_model_checkpoint.pth')\n",
        "\n",
        "\n",
        "torch.save(model.state_dict(), '/content/drive/MyDrive/Research_Thesis_Bocconi_2023/park_xlmrl_best_model.pth')"
      ],
      "metadata": {
        "id": "4iYfNTXEvxgZ"
      },
      "execution_count": null,
      "outputs": []
    },
    {
      "cell_type": "markdown",
      "source": [
        "Load from a checkpoint"
      ],
      "metadata": {
        "id": "vEioKx7XdagE"
      }
    },
    {
      "cell_type": "code",
      "source": [
        "best_macro_f1 = 0.0\n",
        "\n",
        "\n",
        "model.load_state_dict(torch.load('/content/drive/MyDrive/Research_Thesis_Bocconi_2023/park_xlmrl_best_model_checkpoint.pth'))\n",
        "model.to(device)\n",
        "\n",
        "\n",
        "for epoch in range(num_epochs - 8):\n",
        "    model.train()\n",
        "    for batch in train_loader:\n",
        "        input_ids, attention_mask, labels = batch[\"input_ids\"].to(device), batch[\"attention_mask\"].to(device), batch[\"labels\"].to(device)\n",
        "\n",
        "        optimizer.zero_grad()\n",
        "        outputs = model(input_ids, attention_mask=attention_mask, labels=labels)\n",
        "\n",
        "\n",
        "        loss = outputs if labels is not None else None\n",
        "\n",
        "        if loss is not None:\n",
        "            loss.backward()\n",
        "            optimizer.step()\n",
        "            scheduler.step()\n",
        "\n",
        "    model.eval()\n",
        "    all_preds = []\n",
        "    all_labels = []\n",
        "    with torch.no_grad():\n",
        "        for batch in val_loader:\n",
        "            input_ids, attention_mask, labels = batch[\"input_ids\"].to(device), batch[\"attention_mask\"].to(device), batch[\"labels\"].to(device)\n",
        "\n",
        "            logits = model(input_ids, attention_mask=attention_mask)\n",
        "            preds = torch.argmax(logits, dim=1)\n",
        "\n",
        "            all_preds.extend(preds.cpu().numpy())\n",
        "            all_labels.extend(labels.cpu().numpy())\n",
        "\n",
        "\n",
        "        macro_f1 = f1_score(all_labels, all_preds, average='macro')\n",
        "        print(f'Epoch {epoch + 9}/{num_epochs}, Macro F1: {macro_f1}')\n",
        "\n",
        "\n",
        "        if macro_f1 > best_macro_f1:\n",
        "            best_macro_f1 = macro_f1\n",
        "            torch.save(model.state_dict(), f'/content/drive/MyDrive/Research_Thesis_Bocconi_2023/park_xlmrl_best_model_checkpoint.pth')\n",
        "\n",
        "\n",
        "torch.save(model.state_dict(), '/content/drive/MyDrive/Research_Thesis_Bocconi_2023/park_xlmrl_best_model.pth')"
      ],
      "metadata": {
        "id": "YF2E4EhAUtgT"
      },
      "execution_count": null,
      "outputs": []
    },
    {
      "cell_type": "markdown",
      "source": [
        "# Test the Model on an Example"
      ],
      "metadata": {
        "id": "LGJU3gz9XkJl"
      }
    },
    {
      "cell_type": "code",
      "source": [
        "import torch\n",
        "from transformers import XLMRobertaTokenizer, XLMRobertaForSequenceClassification\n",
        "import numpy as np\n",
        "\n",
        "\n",
        "model_name = 'xlm-roberta-large'\n",
        "tokenizer = XLMRobertaTokenizer.from_pretrained(model_name)\n",
        "base_model = XLMRobertaForSequenceClassification.from_pretrained(model_name, num_labels=15)\n",
        "\n",
        "\n",
        "classifier = torch.nn.Sequential(\n",
        "    torch.nn.Linear(base_model.config.hidden_size, base_model.config.hidden_size),\n",
        "    torch.nn.ReLU(),\n",
        "    torch.nn.Linear(base_model.config.hidden_size, 15)  # 15 classes\n",
        ")\n",
        "\n",
        "\n",
        "class CustomModel(torch.nn.Module):\n",
        "    def __init__(self, base_model, classifier):\n",
        "        super(CustomModel, self).__init__()\n",
        "        self.base_model = base_model\n",
        "        self.classifier = classifier\n",
        "\n",
        "    def forward(self, input_ids, attention_mask=None, labels=None):\n",
        "        outputs = self.base_model(input_ids, attention_mask=attention_mask, labels=labels)\n",
        "        logits = outputs.logits\n",
        "        if labels is not None:\n",
        "            loss = outputs.loss\n",
        "            return loss\n",
        "        return logits\n",
        "\n",
        "model = CustomModel(base_model, classifier)\n",
        "\n",
        "\n",
        "model.load_state_dict(torch.load('/content/drive/MyDrive/Research_Thesis_Bocconi_2023/park_xlmrl_best_model_checkpoint.pth', map_location=torch.device('cpu')))\n",
        "model.eval()\n"
      ],
      "metadata": {
        "id": "hUEIcHfTXqFO"
      },
      "execution_count": null,
      "outputs": []
    },
    {
      "cell_type": "code",
      "source": [
        "\n",
        "# Example sentence for prediction\n",
        "example_sentence = \"This is an example senten about ethics, morality and values.\"\n",
        "\n",
        "\n",
        "input_ids = tokenizer.encode(example_sentence, return_tensors=\"pt\")\n",
        "attention_mask = torch.ones(input_ids.shape, device=input_ids.device)\n",
        "\n",
        "with torch.no_grad():\n",
        "    logits = model(input_ids, attention_mask=attention_mask)\n",
        "\n",
        "\n",
        "probs = torch.nn.functional.softmax(logits, dim=-1)\n",
        "predicted_class = torch.argmax(probs, dim=-1).item()\n",
        "\n",
        "\n",
        "print(\"Example Sentence:\", example_sentence)\n",
        "print(\"Predicted Class:\", predicted_class)\n",
        "print(\"Class Probabilities:\", probs.tolist())\n"
      ],
      "metadata": {
        "colab": {
          "base_uri": "https://localhost:8080/"
        },
        "id": "YBVO6wgzey68",
        "outputId": "f6d80d22-378e-4490-98eb-b64e328b9786"
      },
      "execution_count": null,
      "outputs": [
        {
          "output_type": "stream",
          "name": "stdout",
          "text": [
            "Example Sentence: This is an example senten about ethics, morality and values.\n",
            "Predicted Class: 3\n",
            "Class Probabilities: [[8.453911505057476e-06, 0.0002395718329353258, 3.020198164449539e-05, 0.998698353767395, 0.00012554157001432031, 8.547297329641879e-05, 8.581209112890065e-05, 0.0002171618543798104, 9.797385428100824e-05, 0.00011284122592769563, 4.876940147369169e-05, 2.3209835489979014e-05, 4.301615626900457e-05, 0.00016813019465189427, 1.555299422761891e-05]]\n"
          ]
        }
      ]
    },
    {
      "cell_type": "markdown",
      "source": [
        "# Evaluate on the Test Set"
      ],
      "metadata": {
        "id": "phSCMoKmoqZA"
      }
    },
    {
      "cell_type": "markdown",
      "source": [
        "Merge all the excels with annotations"
      ],
      "metadata": {
        "id": "U9W3f7Khl-fe"
      }
    },
    {
      "cell_type": "code",
      "source": [
        "import os\n",
        "\n",
        "folder_path = '/content/drive/MyDrive/Research_Thesis_Bocconi_2023/annotations/annotations_sentences_park_2022/task_for_annotators/'\n",
        "\n",
        "files = [f for f in os.listdir(folder_path) if f.endswith('_corrected.xlsx')]\n",
        "\n",
        "annotations = pd.DataFrame()\n",
        "\n",
        "for file in files:\n",
        "    file_path = os.path.join(folder_path, file)\n",
        "    current_data = pd.read_excel(file_path)\n",
        "\n",
        "    annotations = pd.concat([annotations, current_data], axis=0, ignore_index=True)\n",
        "\n",
        "annotations.info()\n"
      ],
      "metadata": {
        "id": "5vVJsoj3lydt"
      },
      "execution_count": null,
      "outputs": []
    },
    {
      "cell_type": "code",
      "source": [
        "annotations['code'] = annotations['annotations'].apply(lambda x: next((k for k, v in original_codes_dict.items() if str(v) == str(x)), x))\n",
        "annotations['code'] = annotations['code'].astype(int)"
      ],
      "metadata": {
        "id": "SBcj3aKurlhZ"
      },
      "execution_count": null,
      "outputs": []
    },
    {
      "cell_type": "code",
      "source": [
        "# we don't measure 'Other' frame\n",
        "annotations = annotations[annotations['code'] != 15]"
      ],
      "metadata": {
        "id": "CTxYCfVeR-G6"
      },
      "execution_count": null,
      "outputs": []
    },
    {
      "cell_type": "markdown",
      "source": [
        "Translate"
      ],
      "metadata": {
        "id": "WvGNOZPRg1vb"
      }
    },
    {
      "cell_type": "code",
      "source": [
        "!pip install python-dotenv"
      ],
      "metadata": {
        "colab": {
          "base_uri": "https://localhost:8080/"
        },
        "id": "V07OADWPhxwI",
        "outputId": "8e3b6efb-9537-483c-f58a-4806a4485940"
      },
      "execution_count": null,
      "outputs": [
        {
          "output_type": "stream",
          "name": "stdout",
          "text": [
            "Collecting python-dotenv\n",
            "  Downloading python_dotenv-1.0.0-py3-none-any.whl (19 kB)\n",
            "Installing collected packages: python-dotenv\n",
            "Successfully installed python-dotenv-1.0.0\n"
          ]
        }
      ]
    },
    {
      "cell_type": "code",
      "source": [
        "import pandas as pd\n",
        "from google.cloud import translate_v2 as translate\n",
        "import os\n",
        "from dotenv import load_dotenv\n",
        "\n",
        "load_dotenv()\n",
        "\n",
        "def translate_text_google_api(text, target_language='en'):\n",
        "    try:\n",
        "        os.environ[\"GOOGLE_APPLICATION_CREDENTIALS\"] = \"\"\n",
        "        client = translate.Client()\n",
        "\n",
        "        result = client.translate(text, target_language=target_language)\n",
        "        translation = result['translatedText']\n",
        "        return translation\n",
        "    except Exception as e:\n",
        "        print(f\"Translation error for '{text}': {e}\")\n",
        "        return None\n",
        "\n",
        "def translate_texts_google_api(texts, target_language='en'):\n",
        "    translations = []\n",
        "    for text in texts:\n",
        "        translation = translate_text_google_api(text, target_language)\n",
        "        translations.append(translation)\n",
        "    return translations\n",
        "\n",
        "annotations['sentence_trans'] = translate_texts_google_api(annotations['target_sentence'])\n",
        "\n",
        "\n"
      ],
      "metadata": {
        "id": "thDEsFl2g2pz"
      },
      "execution_count": null,
      "outputs": []
    },
    {
      "cell_type": "code",
      "source": [
        "from torch.utils.data import DataLoader, Dataset"
      ],
      "metadata": {
        "id": "a7MHcrf8hZiB"
      },
      "execution_count": null,
      "outputs": []
    },
    {
      "cell_type": "code",
      "source": [
        "\n",
        "class CustomDataset(Dataset):\n",
        "    def __init__(self, data, tokenizer, max_length):\n",
        "        self.data = data\n",
        "        self.tokenizer = tokenizer\n",
        "        self.max_length = max_length\n",
        "\n",
        "    def __len__(self):\n",
        "        return len(self.data)\n",
        "\n",
        "    def __getitem__(self, idx):\n",
        "        item = self.data.iloc[idx]\n",
        "        encoding = self.tokenizer(item[\"sentence_trans\"], truncation=True, padding=\"max_length\", max_length=self.max_length, return_tensors=\"pt\")\n",
        "        return {\n",
        "            \"input_ids\": encoding[\"input_ids\"].flatten(),\n",
        "            \"attention_mask\": encoding[\"attention_mask\"].flatten(),\n",
        "            \"labels\": torch.tensor(item[\"code\"], dtype=torch.long)  # Assuming 'code' is the correct label column\n",
        "        }\n"
      ],
      "metadata": {
        "id": "5xCJeAJQhV9j"
      },
      "execution_count": null,
      "outputs": []
    },
    {
      "cell_type": "code",
      "source": [
        "\n",
        "from torch.utils.data import DataLoader\n",
        "from sklearn.metrics import precision_recall_fscore_support, f1_score\n",
        "device = 'cpu'\n",
        "\n",
        "\n",
        "model.eval()\n",
        "\n",
        "test_dataset = CustomDataset(annotations, tokenizer, max_length=70)\n",
        "test_loader = DataLoader(test_dataset, batch_size=64, shuffle=False)\n",
        "\n",
        "y_true_list = []\n",
        "y_pred_list = []\n",
        "\n",
        "with torch.no_grad():\n",
        "    for batch in test_loader:\n",
        "        input_ids, attention_mask, labels = batch[\"input_ids\"].to(device), batch[\"attention_mask\"].to(device), batch[\"labels\"].to(device)\n",
        "\n",
        "        outputs = model(input_ids, attention_mask=attention_mask)\n",
        "        preds = torch.argmax(outputs, dim=1)\n",
        "\n",
        "        y_true_list.extend(labels.cpu().numpy())\n",
        "        y_pred_list.extend(preds.cpu().numpy())\n",
        "\n",
        "class_metrics = precision_recall_fscore_support(y_true_list, y_pred_list, labels=list(set(y_true_list)), zero_division=1)\n",
        "\n",
        "for i, label in enumerate(list(set(y_true_list))):\n",
        "    print(f\"\\nClass: {label}\")\n",
        "    print(f\"Precision: {class_metrics[0][i]}\")\n",
        "    print(f\"Recall: {class_metrics[1][i]}\")\n",
        "    print(f\"F1 Score: {class_metrics[2][i]}\")\n",
        "    print(f\"Support: {class_metrics[3][i]}\")\n",
        "\n",
        "\n",
        "macro_f1 = f1_score(y_true_list, y_pred_list, average='macro')\n",
        "print(\"\\nOverall Macro F1 Score:\", macro_f1)\n"
      ],
      "metadata": {
        "colab": {
          "base_uri": "https://localhost:8080/"
        },
        "id": "Y1c3Mmcfga8u",
        "outputId": "99d2084a-7741-48d2-eb94-ec9fb844a4f3"
      },
      "execution_count": null,
      "outputs": [
        {
          "output_type": "stream",
          "name": "stdout",
          "text": [
            "\n",
            "Class: 1\n",
            "Precision: 0.5\n",
            "Recall: 0.5714285714285714\n",
            "F1 Score: 0.5333333333333333\n",
            "Support: 7\n",
            "\n",
            "Class: 2\n",
            "Precision: 1.0\n",
            "Recall: 0.08333333333333333\n",
            "F1 Score: 0.15384615384615385\n",
            "Support: 12\n",
            "\n",
            "Class: 3\n",
            "Precision: 1.0\n",
            "Recall: 0.6\n",
            "F1 Score: 0.7499999999999999\n",
            "Support: 5\n",
            "\n",
            "Class: 4\n",
            "Precision: 0.3333333333333333\n",
            "Recall: 0.125\n",
            "F1 Score: 0.18181818181818182\n",
            "Support: 8\n",
            "\n",
            "Class: 5\n",
            "Precision: 0.3333333333333333\n",
            "Recall: 0.16666666666666666\n",
            "F1 Score: 0.2222222222222222\n",
            "Support: 6\n",
            "\n",
            "Class: 6\n",
            "Precision: 0.3333333333333333\n",
            "Recall: 0.1111111111111111\n",
            "F1 Score: 0.16666666666666666\n",
            "Support: 9\n",
            "\n",
            "Class: 7\n",
            "Precision: 0.16666666666666666\n",
            "Recall: 0.2\n",
            "F1 Score: 0.1818181818181818\n",
            "Support: 5\n",
            "\n",
            "Class: 8\n",
            "Precision: 0.2857142857142857\n",
            "Recall: 0.35294117647058826\n",
            "F1 Score: 0.31578947368421056\n",
            "Support: 17\n",
            "\n",
            "Class: 9\n",
            "Precision: 0.2857142857142857\n",
            "Recall: 0.6666666666666666\n",
            "F1 Score: 0.4\n",
            "Support: 3\n",
            "\n",
            "Class: 10\n",
            "Precision: 0.6\n",
            "Recall: 0.2727272727272727\n",
            "F1 Score: 0.37499999999999994\n",
            "Support: 11\n",
            "\n",
            "Class: 11\n",
            "Precision: 0.43902439024390244\n",
            "Recall: 0.75\n",
            "F1 Score: 0.5538461538461539\n",
            "Support: 24\n",
            "\n",
            "Class: 12\n",
            "Precision: 0.0\n",
            "Recall: 0.0\n",
            "F1 Score: 0.0\n",
            "Support: 7\n",
            "\n",
            "Class: 13\n",
            "Precision: 0.3333333333333333\n",
            "Recall: 0.38461538461538464\n",
            "F1 Score: 0.3571428571428571\n",
            "Support: 13\n",
            "\n",
            "Class: 14\n",
            "Precision: 0.3611111111111111\n",
            "Recall: 0.5\n",
            "F1 Score: 0.4193548387096774\n",
            "Support: 26\n",
            "\n",
            "Overall Macro F1 Score: 0.32934557593483127\n"
          ]
        }
      ]
    },
    {
      "cell_type": "markdown",
      "source": [
        "Generate a Confusion Matrix"
      ],
      "metadata": {
        "id": "syDIHPcGGR6C"
      }
    },
    {
      "cell_type": "code",
      "source": [
        "from sklearn.metrics import confusion_matrix\n",
        "import seaborn as sns\n",
        "import matplotlib.pyplot as plt\n",
        "import numpy as np\n",
        "from google.colab import drive\n",
        "\n",
        "\n",
        "\n",
        "conf_matrix = confusion_matrix(y_true_list, y_pred_list, labels=list(set(y_true_list)))\n",
        "conf_matrix_normalized = conf_matrix.astype('float') / conf_matrix.sum(axis=1)[:, np.newaxis]\n",
        "non_zero_mask = conf_matrix_normalized != 0.00\n",
        "\n",
        "labels = [label for label in set(y_true_list) if any(conf_matrix_normalized[list(set(y_true_list)).index(label), :])]\n",
        "plt.figure(figsize=(10, 8))\n",
        "sns.heatmap(conf_matrix_normalized, annot=True, cmap=\"Blues\", fmt=\".2f\",\n",
        "            xticklabels=labels, yticklabels=labels)\n",
        "plt.title('Normalized Confusion Matrix')\n",
        "plt.xlabel('Predicted')\n",
        "plt.ylabel('True')\n",
        "\n",
        "plt.show()"
      ],
      "metadata": {
        "colab": {
          "base_uri": "https://localhost:8080/",
          "height": 755
        },
        "id": "CcyOlGuPGTu3",
        "outputId": "ddffae84-bc9a-443a-a71f-b128e8a3d6f1"
      },
      "execution_count": null,
      "outputs": [
        {
          "output_type": "stream",
          "name": "stdout",
          "text": [
            "Drive already mounted at /content/drive; to attempt to forcibly remount, call drive.mount(\"/content/drive\", force_remount=True).\n"
          ]
        },
        {
          "output_type": "display_data",
          "data": {
            "text/plain": [
              "<Figure size 1000x800 with 2 Axes>"
            ],
            "image/png": "[encoded data removed]"
          },
          "metadata": {}
        }
      ]
    },
    {
      "cell_type": "markdown",
      "source": [
        "Investigate the problematic codes"
      ],
      "metadata": {
        "id": "WGklPgWpGUkL"
      }
    },
    {
      "cell_type": "code",
      "source": [
        "class_12_indices = [i for i, label in enumerate(y_true_list) if label == 12]\n",
        "\n",
        "print(\"Number of instances for Class 12:\", len(class_12_indices))\n",
        "\n",
        "print(\"\\nTrue Labels for Class 12:\", [y_true_list[i] for i in class_12_indices])\n",
        "print(\"Predicted Labels for Class 12:\", [y_pred_list[i] for i in class_12_indices])\n",
        "\n",
        "sentences_class_12 = [annotations.iloc[i]['sentence_trans'] for i in class_12_indices]\n",
        "print(\"\\nSentences for Class 12:\")\n",
        "for i, sentence in enumerate(sentences_class_12):\n",
        "    print(f\"{i + 1}. {sentence}\")\n"
      ],
      "metadata": {
        "colab": {
          "base_uri": "https://localhost:8080/"
        },
        "id": "HqsnzOT9mRPC",
        "outputId": "03be3e88-3068-4011-d89b-216c54dffa23"
      },
      "execution_count": null,
      "outputs": [
        {
          "output_type": "stream",
          "name": "stdout",
          "text": [
            "Number of instances for Class 12: 7\n",
            "\n",
            "True Labels for Class 12: [12, 12, 12, 12, 12, 12, 12]\n",
            "Predicted Labels for Class 12: [11, 14, 11, 8, 14, 7, 11]\n",
            "\n",
            "Sentences for Class 12:\n",
            "1. In relation to Russia, a split is visible in Romanian society: the upper classes are pro-Western and Russophobic, the lower classes are relatively Russophile and anti-Ukrainian.\n",
            "2. The world hangs by a thread.\n",
            "3. And even if they don’t do this, and continue to front - There is a continuum between the sixth and fifth columns\n",
            "4. It&#39;s not even 9/11.\n",
            "5. But all this evidence was not enough for the Western media, which to this day continue to blame Russia for this tragedy.\n",
            "6. The fate of the sixth column: when will it be fulfilled? As for it, the authorities seem to have made up their minds\n",
            "7. Today it is evident to the whole world: Western civilization has gone mad.\n"
          ]
        }
      ]
    }
  ],
  "metadata": {
    "colab": {
      "provenance": [],
      "toc_visible": true,
      "machine_shape": "hm",
      "authorship_tag": "ABX9TyMYkh7X0pAie3LIusyCEpa5",
      "include_colab_link": true
    },
    "kernelspec": {
      "display_name": "Python 3",
      "name": "python3"
    },
    "language_info": {
      "name": "python"
    }
  },
  "nbformat": 4,
  "nbformat_minor": 0
}